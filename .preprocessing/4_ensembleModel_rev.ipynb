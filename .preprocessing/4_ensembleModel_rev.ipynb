{
 "cells": [
  {
   "cell_type": "code",
   "execution_count": 1,
   "id": "362486eb-3fce-4ce0-aa07-172e19fa8d75",
   "metadata": {},
   "outputs": [],
   "source": [
    "import numpy as np\n",
    "import pandas as pd\n",
    "\n",
    "import keras\n",
    "from keras.models import load_model\n",
    "from sklearn.base import BaseEstimator, ClassifierMixin\n",
    "from sklearn.metrics import confusion_matrix, roc_auc_score, precision_recall_curve, auc, classification_report"
   ]
  },
  {
   "cell_type": "markdown",
   "id": "9ceab0d6-fed4-4827-9571-6a9ed682c2af",
   "metadata": {
    "jp-MarkdownHeadingCollapsed": true
   },
   "source": [
    "## Start Here"
   ]
  },
  {
   "cell_type": "code",
   "execution_count": 2,
   "id": "96c28eff-3c19-4f22-b20f-4afcecbcaec5",
   "metadata": {},
   "outputs": [],
   "source": [
    "filePath = './draft/data_train_valid.npz'\n",
    "data = np.load(filePath)\n",
    "\n",
    "X_train = data['X_train']\n",
    "y_train = data['y_train']\n",
    "X_valid = data['X_valid']\n",
    "y_valid = data['y_valid']"
   ]
  },
  {
   "cell_type": "code",
   "execution_count": 13,
   "id": "72d11f33-bf30-4ac9-a1e5-ec0447eb762b",
   "metadata": {},
   "outputs": [],
   "source": [
    "class EnsembleClassifier(BaseEstimator, ClassifierMixin):\n",
    "    def __init__(self, models, weights):\n",
    "        self.models = models\n",
    "        self.weights = weights\n",
    "        self.model_lst = load_model(models[0])\n",
    "        self.model_gru = load_model(models[1])\n",
    "        self.model_tcn = load_model(models[2])\n",
    "        self.ttl_weight = sum(weights)\n",
    "        self.lst_weight = weights[0] / self.ttl_weight\n",
    "        self.gru_weight = weights[1] / self.ttl_weight\n",
    "        self.tcn_weight = weights[2] / self.ttl_weight\n",
    "\n",
    "    def fit(self, X, y):\n",
    "        return self\n",
    "\n",
    "    def predict(self, X):\n",
    "        lst_pred = self.model_lst.predict(X)\n",
    "        gru_pred = self.model_gru.predict(X)\n",
    "        tcn_pred = self.model_tcn.predict(X)\n",
    "        ensemble_pred = (lst_pred * self.lst_weight + gru_pred * self.gru_weight + tcn_pred * self.tcn_weight)\n",
    "        return (ensemble_pred > 0.5).astype(int)\n",
    "\n",
    "    def predict_proba(self, X):\n",
    "        lst_pred = self.model_lst.predict(X)\n",
    "        gru_pred = self.model_gru.predict(X)\n",
    "        tcn_pred = self.model_tcn.predict(X)\n",
    "        ensemble_pred = (lst_pred * self.lst_weight + gru_pred * self.gru_weight + tcn_pred * self.tcn_weight)\n",
    "        return ensemble_pred"
   ]
  },
  {
   "cell_type": "code",
   "execution_count": 14,
   "id": "7af477e9-1b04-435a-816c-4a5124bcc3eb",
   "metadata": {},
   "outputs": [],
   "source": [
    "def ensembleModel(models: list, weights: list):\n",
    "    ensemble_clf = EnsembleClassifier(models=models, weights=weights)\n",
    "\n",
    "    # # Training Data\n",
    "    # # Classification Report\n",
    "    # y_train_pred = ensemble_clf.predict(X_train)\n",
    "    # y_train_prob = ensemble_clf.predict_proba(X_train)\n",
    "    # print(\"Classification Report for Training Data:\")\n",
    "    # print(classification_report(y_train, y_train_pred))\n",
    "    \n",
    "    # # ROC-AUC Score\n",
    "    # roc_auc_train = roc_auc_score(y_train, y_train_prob)\n",
    "    # print(f'ROC AUC Score (Training): {roc_auc_train}')\n",
    "    \n",
    "    # # Precision-Recall Curve and AUC\n",
    "    # precision_train, recall_train, _ = precision_recall_curve(y_train, y_train_prob)\n",
    "    # pr_auc_train = auc(recall_train, precision_train)\n",
    "    # print(f'Precision-Recall AUC (Training): {pr_auc_train}')\n",
    "\n",
    "    # # Validation Data\n",
    "    y_valid_pred = ensemble_clf.predict(X_valid)\n",
    "    y_valid_prob = ensemble_clf.predict_proba(X_valid)\n",
    "\n",
    "    # Classification Report\n",
    "    print(\"\\nClassification Report for Validation Data:\")\n",
    "    print(classification_report(y_valid, y_valid_pred))\n",
    "    \n",
    "    # ROC-AUC Score\n",
    "    roc_auc_valid = roc_auc_score(y_valid, y_valid_prob)\n",
    "    print(f'ROC AUC Score (Validation): {roc_auc_valid}')\n",
    "    \n",
    "    # Precision-Recall Curve and AUC\n",
    "    precision_valid, recall_valid, _ = precision_recall_curve(y_valid, y_valid_prob)\n",
    "    pr_auc_valid = auc(recall_valid, precision_valid)\n",
    "    print(f'Precision-Recall AUC (Validation): {pr_auc_valid}')"
   ]
  },
  {
   "cell_type": "markdown",
   "id": "0e454acc-3e1a-4551-9d76-13c64acebb7c",
   "metadata": {},
   "source": [
    "#### LSTM : GRU : TCN"
   ]
  },
  {
   "cell_type": "markdown",
   "id": "64992778-5e88-420e-b429-bf47d4f0bdfb",
   "metadata": {},
   "source": [
    "## Percobaan Utama"
   ]
  },
  {
   "cell_type": "markdown",
   "id": "c391c565-fa0e-449d-8656-4e1aa40050dd",
   "metadata": {},
   "source": [
    "### Manual pada Epoch 10"
   ]
  },
  {
   "cell_type": "markdown",
   "id": "9ae49fc7-fe17-4a7e-acb7-73c66d3df391",
   "metadata": {},
   "source": [
    "#### Dengan Bobot 1:1:1"
   ]
  },
  {
   "cell_type": "code",
   "execution_count": 5,
   "id": "ad333f84-b42e-4ab4-bc86-11d72d27f7bc",
   "metadata": {
    "scrolled": true
   },
   "outputs": [
    {
     "name": "stdout",
     "output_type": "stream",
     "text": [
      "\u001b[1m13/13\u001b[0m \u001b[32m━━━━━━━━━━━━━━━━━━━━\u001b[0m\u001b[37m\u001b[0m \u001b[1m2s\u001b[0m 96ms/step\n",
      "\u001b[1m13/13\u001b[0m \u001b[32m━━━━━━━━━━━━━━━━━━━━\u001b[0m\u001b[37m\u001b[0m \u001b[1m1s\u001b[0m 63ms/step\n",
      "\u001b[1m13/13\u001b[0m \u001b[32m━━━━━━━━━━━━━━━━━━━━\u001b[0m\u001b[37m\u001b[0m \u001b[1m1s\u001b[0m 79ms/step\n",
      "\u001b[1m13/13\u001b[0m \u001b[32m━━━━━━━━━━━━━━━━━━━━\u001b[0m\u001b[37m\u001b[0m \u001b[1m0s\u001b[0m 26ms/step\n",
      "\u001b[1m13/13\u001b[0m \u001b[32m━━━━━━━━━━━━━━━━━━━━\u001b[0m\u001b[37m\u001b[0m \u001b[1m0s\u001b[0m 22ms/step\n",
      "\u001b[1m13/13\u001b[0m \u001b[32m━━━━━━━━━━━━━━━━━━━━\u001b[0m\u001b[37m\u001b[0m \u001b[1m0s\u001b[0m 31ms/step\n",
      "\n",
      "Classification Report for Validation Data:\n",
      "              precision    recall  f1-score   support\n",
      "\n",
      "           0       0.90      0.95      0.92       201\n",
      "           1       0.94      0.89      0.92       199\n",
      "\n",
      "    accuracy                           0.92       400\n",
      "   macro avg       0.92      0.92      0.92       400\n",
      "weighted avg       0.92      0.92      0.92       400\n",
      "\n",
      "ROC AUC Score (Validation): 0.9586739668491712\n",
      "Precision-Recall AUC (Validation): 0.9546064432006812\n"
     ]
    }
   ],
   "source": [
    "# 0.90 : 0.88 : 0.93\n",
    "ensembleModel(models=['./rev_model/3_LSTM_lr_1e-4.keras', \n",
    "                      './rev_model/7_GRU_lr_1e-4.keras', \n",
    "                      './rev_model/12_TCN_lr_auto.keras'], \n",
    "               weights=[1, 1, 1]\n",
    "             )"
   ]
  },
  {
   "cell_type": "markdown",
   "id": "707f2080-1e76-41ba-b22e-cd67bb1ca6e0",
   "metadata": {},
   "source": [
    "#### Dengan Bobot 1:1:2"
   ]
  },
  {
   "cell_type": "code",
   "execution_count": 6,
   "id": "27979429-d22a-4576-92ab-bce3fb6eabc1",
   "metadata": {
    "scrolled": true
   },
   "outputs": [
    {
     "name": "stdout",
     "output_type": "stream",
     "text": [
      "\u001b[1m13/13\u001b[0m \u001b[32m━━━━━━━━━━━━━━━━━━━━\u001b[0m\u001b[37m\u001b[0m \u001b[1m2s\u001b[0m 77ms/step\n",
      "\u001b[1m13/13\u001b[0m \u001b[32m━━━━━━━━━━━━━━━━━━━━\u001b[0m\u001b[37m\u001b[0m \u001b[1m1s\u001b[0m 62ms/step\n",
      "\u001b[1m13/13\u001b[0m \u001b[32m━━━━━━━━━━━━━━━━━━━━\u001b[0m\u001b[37m\u001b[0m \u001b[1m1s\u001b[0m 41ms/step\n",
      "\u001b[1m13/13\u001b[0m \u001b[32m━━━━━━━━━━━━━━━━━━━━\u001b[0m\u001b[37m\u001b[0m \u001b[1m0s\u001b[0m 17ms/step\n",
      "\u001b[1m13/13\u001b[0m \u001b[32m━━━━━━━━━━━━━━━━━━━━\u001b[0m\u001b[37m\u001b[0m \u001b[1m0s\u001b[0m 22ms/step\n",
      "\u001b[1m13/13\u001b[0m \u001b[32m━━━━━━━━━━━━━━━━━━━━\u001b[0m\u001b[37m\u001b[0m \u001b[1m1s\u001b[0m 47ms/step\n",
      "\n",
      "Classification Report for Validation Data:\n",
      "              precision    recall  f1-score   support\n",
      "\n",
      "           0       0.89      0.95      0.92       201\n",
      "           1       0.94      0.88      0.91       199\n",
      "\n",
      "    accuracy                           0.91       400\n",
      "   macro avg       0.91      0.91      0.91       400\n",
      "weighted avg       0.91      0.91      0.91       400\n",
      "\n",
      "ROC AUC Score (Validation): 0.9569989249731243\n",
      "Precision-Recall AUC (Validation): 0.9538534600070361\n"
     ]
    }
   ],
   "source": [
    "# 0.90 : 0.88 : 0.93\n",
    "ensembleModel(models=['./rev_model/3_LSTM_lr_1e-4.keras', \n",
    "                      './rev_model/7_GRU_lr_1e-4.keras', \n",
    "                      './rev_model/12_TCN_lr_auto.keras'], \n",
    "               weights=[1, 1, 2]\n",
    "             )"
   ]
  },
  {
   "cell_type": "markdown",
   "id": "6aed38fd-e758-444b-bb12-fa8c03f82138",
   "metadata": {},
   "source": [
    "### Manual pada Epoch 20"
   ]
  },
  {
   "cell_type": "markdown",
   "id": "24d2a7b3-f489-4f88-ba41-ddf704332527",
   "metadata": {},
   "source": [
    "#### Dengan Bobot 1:1:1"
   ]
  },
  {
   "cell_type": "code",
   "execution_count": 7,
   "id": "6011fcff-2b1e-42a8-89f3-96d987a63ae8",
   "metadata": {
    "scrolled": true
   },
   "outputs": [
    {
     "name": "stdout",
     "output_type": "stream",
     "text": [
      "\u001b[1m13/13\u001b[0m \u001b[32m━━━━━━━━━━━━━━━━━━━━\u001b[0m\u001b[37m\u001b[0m \u001b[1m1s\u001b[0m 66ms/step\n",
      "\u001b[1m13/13\u001b[0m \u001b[32m━━━━━━━━━━━━━━━━━━━━\u001b[0m\u001b[37m\u001b[0m \u001b[1m1s\u001b[0m 53ms/step\n",
      "\u001b[1m13/13\u001b[0m \u001b[32m━━━━━━━━━━━━━━━━━━━━\u001b[0m\u001b[37m\u001b[0m \u001b[1m1s\u001b[0m 59ms/step\n",
      "\u001b[1m13/13\u001b[0m \u001b[32m━━━━━━━━━━━━━━━━━━━━\u001b[0m\u001b[37m\u001b[0m \u001b[1m0s\u001b[0m 10ms/step\n",
      "\u001b[1m13/13\u001b[0m \u001b[32m━━━━━━━━━━━━━━━━━━━━\u001b[0m\u001b[37m\u001b[0m \u001b[1m0s\u001b[0m 19ms/step\n",
      "\u001b[1m13/13\u001b[0m \u001b[32m━━━━━━━━━━━━━━━━━━━━\u001b[0m\u001b[37m\u001b[0m \u001b[1m1s\u001b[0m 44ms/step\n",
      "\n",
      "Classification Report for Validation Data:\n",
      "              precision    recall  f1-score   support\n",
      "\n",
      "           0       0.90      0.95      0.92       201\n",
      "           1       0.94      0.89      0.92       199\n",
      "\n",
      "    accuracy                           0.92       400\n",
      "   macro avg       0.92      0.92      0.92       400\n",
      "weighted avg       0.92      0.92      0.92       400\n",
      "\n",
      "ROC AUC Score (Validation): 0.9575239380984526\n",
      "Precision-Recall AUC (Validation): 0.9482617238088886\n"
     ]
    }
   ],
   "source": [
    "# 0.92 : 0.94 : 0.92\n",
    "ensembleModel(models=['./rev_model/15_LSTM_lr_1e-4.keras', \n",
    "                      './rev_model/19_GRU_lr_1e-4.keras', \n",
    "                      './rev_model/24_TCN_lr_auto.keras'], \n",
    "               weights=[1, 1, 1]\n",
    "             )"
   ]
  },
  {
   "cell_type": "markdown",
   "id": "65960ac5-dd23-4d19-9710-4f5365a349fe",
   "metadata": {},
   "source": [
    "#### Dengan Bobot 1:2:1"
   ]
  },
  {
   "cell_type": "code",
   "execution_count": 8,
   "id": "561a728a-a639-4991-9721-62d11ece0ee6",
   "metadata": {
    "scrolled": true
   },
   "outputs": [
    {
     "name": "stdout",
     "output_type": "stream",
     "text": [
      "\u001b[1m13/13\u001b[0m \u001b[32m━━━━━━━━━━━━━━━━━━━━\u001b[0m\u001b[37m\u001b[0m \u001b[1m1s\u001b[0m 60ms/step\n",
      "\u001b[1m13/13\u001b[0m \u001b[32m━━━━━━━━━━━━━━━━━━━━\u001b[0m\u001b[37m\u001b[0m \u001b[1m1s\u001b[0m 56ms/step\n",
      "\u001b[1m13/13\u001b[0m \u001b[32m━━━━━━━━━━━━━━━━━━━━\u001b[0m\u001b[37m\u001b[0m \u001b[1m1s\u001b[0m 49ms/step\n",
      "\u001b[1m13/13\u001b[0m \u001b[32m━━━━━━━━━━━━━━━━━━━━\u001b[0m\u001b[37m\u001b[0m \u001b[1m0s\u001b[0m 18ms/step\n",
      "\u001b[1m13/13\u001b[0m \u001b[32m━━━━━━━━━━━━━━━━━━━━\u001b[0m\u001b[37m\u001b[0m \u001b[1m0s\u001b[0m 15ms/step\n",
      "\u001b[1m13/13\u001b[0m \u001b[32m━━━━━━━━━━━━━━━━━━━━\u001b[0m\u001b[37m\u001b[0m \u001b[1m1s\u001b[0m 40ms/step\n",
      "\n",
      "Classification Report for Validation Data:\n",
      "              precision    recall  f1-score   support\n",
      "\n",
      "           0       0.90      0.95      0.92       201\n",
      "           1       0.94      0.89      0.92       199\n",
      "\n",
      "    accuracy                           0.92       400\n",
      "   macro avg       0.92      0.92      0.92       400\n",
      "weighted avg       0.92      0.92      0.92       400\n",
      "\n",
      "ROC AUC Score (Validation): 0.958023950598765\n",
      "Precision-Recall AUC (Validation): 0.9488506575852521\n"
     ]
    }
   ],
   "source": [
    "# 0.92 : 0.94 : 0.92\n",
    "ensembleModel(models=['./rev_model/15_LSTM_lr_1e-4.keras', \n",
    "                      './rev_model/19_GRU_lr_1e-4.keras', \n",
    "                      './rev_model/24_TCN_lr_auto.keras'], \n",
    "               weights=[1, 2, 1]\n",
    "             )"
   ]
  },
  {
   "cell_type": "markdown",
   "id": "11e8508f-4f71-4f5c-9380-778091776310",
   "metadata": {},
   "source": [
    "### Manual pada Epoch 30"
   ]
  },
  {
   "cell_type": "markdown",
   "id": "ce8e87bb-cd1c-4a49-8b7f-7cc7b7fedc17",
   "metadata": {},
   "source": [
    "#### Dengan Bobot 1:1:1"
   ]
  },
  {
   "cell_type": "code",
   "execution_count": 9,
   "id": "728414c3-b2da-44d8-b0c2-4dab38044d05",
   "metadata": {
    "scrolled": true
   },
   "outputs": [
    {
     "name": "stdout",
     "output_type": "stream",
     "text": [
      "\u001b[1m13/13\u001b[0m \u001b[32m━━━━━━━━━━━━━━━━━━━━\u001b[0m\u001b[37m\u001b[0m \u001b[1m1s\u001b[0m 58ms/step\n",
      "\u001b[1m13/13\u001b[0m \u001b[32m━━━━━━━━━━━━━━━━━━━━\u001b[0m\u001b[37m\u001b[0m \u001b[1m2s\u001b[0m 66ms/step\n",
      "\u001b[1m13/13\u001b[0m \u001b[32m━━━━━━━━━━━━━━━━━━━━\u001b[0m\u001b[37m\u001b[0m \u001b[1m1s\u001b[0m 53ms/step\n",
      "\u001b[1m13/13\u001b[0m \u001b[32m━━━━━━━━━━━━━━━━━━━━\u001b[0m\u001b[37m\u001b[0m \u001b[1m0s\u001b[0m 11ms/step\n",
      "\u001b[1m13/13\u001b[0m \u001b[32m━━━━━━━━━━━━━━━━━━━━\u001b[0m\u001b[37m\u001b[0m \u001b[1m0s\u001b[0m 16ms/step\n",
      "\u001b[1m13/13\u001b[0m \u001b[32m━━━━━━━━━━━━━━━━━━━━\u001b[0m\u001b[37m\u001b[0m \u001b[1m1s\u001b[0m 57ms/step\n",
      "\n",
      "Classification Report for Validation Data:\n",
      "              precision    recall  f1-score   support\n",
      "\n",
      "           0       0.90      0.95      0.92       201\n",
      "           1       0.94      0.90      0.92       199\n",
      "\n",
      "    accuracy                           0.92       400\n",
      "   macro avg       0.92      0.92      0.92       400\n",
      "weighted avg       0.92      0.92      0.92       400\n",
      "\n",
      "ROC AUC Score (Validation): 0.9665741643541088\n",
      "Precision-Recall AUC (Validation): 0.9619200154177225\n"
     ]
    }
   ],
   "source": [
    "# 0.92 : 0.93 : 0.92\n",
    "ensembleModel(models=['./rev_model/27_LSTM_lr_1e-4.keras', \n",
    "                      './rev_model/31_GRU_lr_1e-4.keras', \n",
    "                      './rev_model/36_TCN_lr_auto.keras'], \n",
    "               weights=[1, 1, 1]\n",
    "             )"
   ]
  },
  {
   "cell_type": "markdown",
   "id": "6882f8d4-9e89-43fd-8774-4c4a21c47f27",
   "metadata": {},
   "source": [
    "#### Dengan Bobot 1:2:1"
   ]
  },
  {
   "cell_type": "code",
   "execution_count": 10,
   "id": "aafa82ab-395e-444f-8ed8-318a7bb68804",
   "metadata": {
    "scrolled": true
   },
   "outputs": [
    {
     "name": "stdout",
     "output_type": "stream",
     "text": [
      "\u001b[1m13/13\u001b[0m \u001b[32m━━━━━━━━━━━━━━━━━━━━\u001b[0m\u001b[37m\u001b[0m \u001b[1m1s\u001b[0m 59ms/step\n",
      "\u001b[1m13/13\u001b[0m \u001b[32m━━━━━━━━━━━━━━━━━━━━\u001b[0m\u001b[37m\u001b[0m \u001b[1m2s\u001b[0m 95ms/step\n",
      "\u001b[1m13/13\u001b[0m \u001b[32m━━━━━━━━━━━━━━━━━━━━\u001b[0m\u001b[37m\u001b[0m \u001b[1m1s\u001b[0m 56ms/step\n",
      "\u001b[1m13/13\u001b[0m \u001b[32m━━━━━━━━━━━━━━━━━━━━\u001b[0m\u001b[37m\u001b[0m \u001b[1m0s\u001b[0m 29ms/step\n",
      "\u001b[1m13/13\u001b[0m \u001b[32m━━━━━━━━━━━━━━━━━━━━\u001b[0m\u001b[37m\u001b[0m \u001b[1m0s\u001b[0m 21ms/step\n",
      "\u001b[1m13/13\u001b[0m \u001b[32m━━━━━━━━━━━━━━━━━━━━\u001b[0m\u001b[37m\u001b[0m \u001b[1m1s\u001b[0m 36ms/step\n",
      "\n",
      "Classification Report for Validation Data:\n",
      "              precision    recall  f1-score   support\n",
      "\n",
      "           0       0.90      0.95      0.92       201\n",
      "           1       0.94      0.90      0.92       199\n",
      "\n",
      "    accuracy                           0.92       400\n",
      "   macro avg       0.92      0.92      0.92       400\n",
      "weighted avg       0.92      0.92      0.92       400\n",
      "\n",
      "ROC AUC Score (Validation): 0.9669241731043275\n",
      "Precision-Recall AUC (Validation): 0.9621028452307283\n"
     ]
    }
   ],
   "source": [
    "# 0.92 : 0.93 : 0.92\n",
    "ensembleModel(models=['./rev_model/27_LSTM_lr_1e-4.keras', \n",
    "                      './rev_model/31_GRU_lr_1e-4.keras', \n",
    "                      './rev_model/36_TCN_lr_auto.keras'], \n",
    "               weights=[1, 2, 1]\n",
    "             )"
   ]
  },
  {
   "cell_type": "markdown",
   "id": "576dd7c6-049d-49c6-8b3f-76f73fced105",
   "metadata": {},
   "source": [
    "### Callback EarlyStopping"
   ]
  },
  {
   "cell_type": "markdown",
   "id": "627e68fa-dc6f-4630-b626-89738e96b017",
   "metadata": {},
   "source": [
    "#### Dengan Bobot 1:1:1"
   ]
  },
  {
   "cell_type": "code",
   "execution_count": 11,
   "id": "002d865d-e903-499b-8cf0-07d9bf200817",
   "metadata": {
    "scrolled": true
   },
   "outputs": [
    {
     "name": "stdout",
     "output_type": "stream",
     "text": [
      "\u001b[1m13/13\u001b[0m \u001b[32m━━━━━━━━━━━━━━━━━━━━\u001b[0m\u001b[37m\u001b[0m \u001b[1m1s\u001b[0m 60ms/step\n",
      "\u001b[1m13/13\u001b[0m \u001b[32m━━━━━━━━━━━━━━━━━━━━\u001b[0m\u001b[37m\u001b[0m \u001b[1m1s\u001b[0m 56ms/step\n",
      "\u001b[1m13/13\u001b[0m \u001b[32m━━━━━━━━━━━━━━━━━━━━\u001b[0m\u001b[37m\u001b[0m \u001b[1m1s\u001b[0m 50ms/step\n",
      "\u001b[1m13/13\u001b[0m \u001b[32m━━━━━━━━━━━━━━━━━━━━\u001b[0m\u001b[37m\u001b[0m \u001b[1m0s\u001b[0m 20ms/step\n",
      "\u001b[1m13/13\u001b[0m \u001b[32m━━━━━━━━━━━━━━━━━━━━\u001b[0m\u001b[37m\u001b[0m \u001b[1m0s\u001b[0m 18ms/step\n",
      "\u001b[1m13/13\u001b[0m \u001b[32m━━━━━━━━━━━━━━━━━━━━\u001b[0m\u001b[37m\u001b[0m \u001b[1m1s\u001b[0m 41ms/step\n",
      "\n",
      "Classification Report for Validation Data:\n",
      "              precision    recall  f1-score   support\n",
      "\n",
      "           0       0.90      0.95      0.92       201\n",
      "           1       0.94      0.89      0.92       199\n",
      "\n",
      "    accuracy                           0.92       400\n",
      "   macro avg       0.92      0.92      0.92       400\n",
      "weighted avg       0.92      0.92      0.92       400\n",
      "\n",
      "ROC AUC Score (Validation): 0.9635990899772494\n",
      "Precision-Recall AUC (Validation): 0.9569198575979111\n"
     ]
    }
   ],
   "source": [
    "# 0.91 : 0.93 : 0.92\n",
    "ensembleModel(models=['./rev_model/39_LSTM_lr_1e-4.keras', \n",
    "                      './rev_model/43_GRU_lr_1e-4.keras', \n",
    "                      './rev_model/47_TCN_lr_1e-4.keras'], \n",
    "               weights=[1, 1, 1]\n",
    "             )"
   ]
  },
  {
   "cell_type": "markdown",
   "id": "de75f5ae-5e51-4bdf-b072-03d088cd75e9",
   "metadata": {},
   "source": [
    "#### Dengan Bobot 1:2:1"
   ]
  },
  {
   "cell_type": "code",
   "execution_count": 12,
   "id": "10ce2522-899a-45a2-84f5-5cfa74dc8150",
   "metadata": {
    "scrolled": true
   },
   "outputs": [
    {
     "name": "stdout",
     "output_type": "stream",
     "text": [
      "\u001b[1m13/13\u001b[0m \u001b[32m━━━━━━━━━━━━━━━━━━━━\u001b[0m\u001b[37m\u001b[0m \u001b[1m1s\u001b[0m 50ms/step\n",
      "\u001b[1m13/13\u001b[0m \u001b[32m━━━━━━━━━━━━━━━━━━━━\u001b[0m\u001b[37m\u001b[0m \u001b[1m1s\u001b[0m 63ms/step\n",
      "\u001b[1m13/13\u001b[0m \u001b[32m━━━━━━━━━━━━━━━━━━━━\u001b[0m\u001b[37m\u001b[0m \u001b[1m1s\u001b[0m 56ms/step\n",
      "\u001b[1m13/13\u001b[0m \u001b[32m━━━━━━━━━━━━━━━━━━━━\u001b[0m\u001b[37m\u001b[0m \u001b[1m0s\u001b[0m 30ms/step\n",
      "\u001b[1m13/13\u001b[0m \u001b[32m━━━━━━━━━━━━━━━━━━━━\u001b[0m\u001b[37m\u001b[0m \u001b[1m0s\u001b[0m 11ms/step\n",
      "\u001b[1m13/13\u001b[0m \u001b[32m━━━━━━━━━━━━━━━━━━━━\u001b[0m\u001b[37m\u001b[0m \u001b[1m1s\u001b[0m 43ms/step\n",
      "\n",
      "Classification Report for Validation Data:\n",
      "              precision    recall  f1-score   support\n",
      "\n",
      "           0       0.90      0.95      0.92       201\n",
      "           1       0.94      0.89      0.92       199\n",
      "\n",
      "    accuracy                           0.92       400\n",
      "   macro avg       0.92      0.92      0.92       400\n",
      "weighted avg       0.92      0.92      0.92       400\n",
      "\n",
      "ROC AUC Score (Validation): 0.9637240931023275\n",
      "Precision-Recall AUC (Validation): 0.954481813295584\n"
     ]
    }
   ],
   "source": [
    "# 0.91 : 0.93 : 0.92\n",
    "ensembleModel(models=['./rev_model/39_LSTM_lr_1e-4.keras', \n",
    "                      './rev_model/43_GRU_lr_1e-4.keras', \n",
    "                      './rev_model/47_TCN_lr_1e-4.keras'], \n",
    "               weights=[1, 2, 1]\n",
    "             )"
   ]
  },
  {
   "cell_type": "markdown",
   "id": "23fd24db-2133-4643-8f07-974f530708d4",
   "metadata": {
    "jp-MarkdownHeadingCollapsed": true
   },
   "source": [
    "## Percobaan Masukan"
   ]
  },
  {
   "cell_type": "markdown",
   "id": "b7b30193-daa2-4b5b-aa8f-1c3406ea993f",
   "metadata": {},
   "source": [
    "Menggunakan nilai performa model dasar/base learner yang didapatkan dari hasil perhitungan dua (2) metrik evaluasi yaitu akurasi dan f1-score yang telah dipaparkan sebelumnya."
   ]
  },
  {
   "cell_type": "markdown",
   "id": "bcb581e1-cf21-4cf4-b6e8-f117fca7869c",
   "metadata": {},
   "source": [
    "### Manual pada Epoch 10"
   ]
  },
  {
   "cell_type": "code",
   "execution_count": 15,
   "id": "43d653ca-49b8-4e77-bf3f-18255af36b5f",
   "metadata": {},
   "outputs": [
    {
     "name": "stdout",
     "output_type": "stream",
     "text": [
      "\u001b[1m13/13\u001b[0m \u001b[32m━━━━━━━━━━━━━━━━━━━━\u001b[0m\u001b[37m\u001b[0m \u001b[1m2s\u001b[0m 76ms/step\n",
      "\u001b[1m13/13\u001b[0m \u001b[32m━━━━━━━━━━━━━━━━━━━━\u001b[0m\u001b[37m\u001b[0m \u001b[1m2s\u001b[0m 69ms/step\n",
      "\u001b[1m13/13\u001b[0m \u001b[32m━━━━━━━━━━━━━━━━━━━━\u001b[0m\u001b[37m\u001b[0m \u001b[1m1s\u001b[0m 51ms/step\n",
      "\u001b[1m13/13\u001b[0m \u001b[32m━━━━━━━━━━━━━━━━━━━━\u001b[0m\u001b[37m\u001b[0m \u001b[1m0s\u001b[0m 19ms/step\n",
      "\u001b[1m13/13\u001b[0m \u001b[32m━━━━━━━━━━━━━━━━━━━━\u001b[0m\u001b[37m\u001b[0m \u001b[1m0s\u001b[0m 15ms/step\n",
      "\u001b[1m13/13\u001b[0m \u001b[32m━━━━━━━━━━━━━━━━━━━━\u001b[0m\u001b[37m\u001b[0m \u001b[1m1s\u001b[0m 57ms/step\n",
      "\n",
      "Classification Report for Validation Data:\n",
      "              precision    recall  f1-score   support\n",
      "\n",
      "           0       0.90      0.95      0.92       201\n",
      "           1       0.94      0.89      0.92       199\n",
      "\n",
      "    accuracy                           0.92       400\n",
      "   macro avg       0.92      0.92      0.92       400\n",
      "weighted avg       0.92      0.92      0.92       400\n",
      "\n",
      "ROC AUC Score (Validation): 0.9585989649741244\n",
      "Precision-Recall AUC (Validation): 0.9546120501026013\n"
     ]
    }
   ],
   "source": [
    "# 0.90 : 0.88 : 0.93\n",
    "ensembleModel(models=['./rev_model/3_LSTM_lr_1e-4.keras', \n",
    "                      './rev_model/7_GRU_lr_1e-4.keras', \n",
    "                      './rev_model/12_TCN_lr_auto.keras'], \n",
    "               weights=[0.90, 0.88, 0.93]\n",
    "             )"
   ]
  },
  {
   "cell_type": "markdown",
   "id": "a64537a6-c987-4517-9164-b59ac389465b",
   "metadata": {},
   "source": [
    "### Manual pada Epoch 20"
   ]
  },
  {
   "cell_type": "code",
   "execution_count": 16,
   "id": "0eb4ec14-6c50-46c9-aff2-e28f627c46ed",
   "metadata": {},
   "outputs": [
    {
     "name": "stdout",
     "output_type": "stream",
     "text": [
      "\u001b[1m13/13\u001b[0m \u001b[32m━━━━━━━━━━━━━━━━━━━━\u001b[0m\u001b[37m\u001b[0m \u001b[1m2s\u001b[0m 67ms/step\n",
      "\u001b[1m13/13\u001b[0m \u001b[32m━━━━━━━━━━━━━━━━━━━━\u001b[0m\u001b[37m\u001b[0m \u001b[1m1s\u001b[0m 56ms/step\n",
      "\u001b[1m13/13\u001b[0m \u001b[32m━━━━━━━━━━━━━━━━━━━━\u001b[0m\u001b[37m\u001b[0m \u001b[1m1s\u001b[0m 62ms/step\n",
      "\u001b[1m13/13\u001b[0m \u001b[32m━━━━━━━━━━━━━━━━━━━━\u001b[0m\u001b[37m\u001b[0m \u001b[1m0s\u001b[0m 13ms/step\n",
      "\u001b[1m13/13\u001b[0m \u001b[32m━━━━━━━━━━━━━━━━━━━━\u001b[0m\u001b[37m\u001b[0m \u001b[1m0s\u001b[0m 21ms/step\n",
      "\u001b[1m13/13\u001b[0m \u001b[32m━━━━━━━━━━━━━━━━━━━━\u001b[0m\u001b[37m\u001b[0m \u001b[1m1s\u001b[0m 37ms/step\n",
      "\n",
      "Classification Report for Validation Data:\n",
      "              precision    recall  f1-score   support\n",
      "\n",
      "           0       0.90      0.95      0.92       201\n",
      "           1       0.94      0.89      0.92       199\n",
      "\n",
      "    accuracy                           0.92       400\n",
      "   macro avg       0.92      0.92      0.92       400\n",
      "weighted avg       0.92      0.92      0.92       400\n",
      "\n",
      "ROC AUC Score (Validation): 0.957548938723468\n",
      "Precision-Recall AUC (Validation): 0.9482691625575319\n"
     ]
    }
   ],
   "source": [
    "# 0.92 : 0.94 : 0.92\n",
    "ensembleModel(models=['./rev_model/15_LSTM_lr_1e-4.keras', \n",
    "                      './rev_model/19_GRU_lr_1e-4.keras', \n",
    "                      './rev_model/24_TCN_lr_auto.keras'], \n",
    "               weights=[0.92, 0.94, 0.92]\n",
    "             )"
   ]
  },
  {
   "cell_type": "markdown",
   "id": "aa3c3c30-39d4-4176-8e6b-988b61b15e69",
   "metadata": {},
   "source": [
    "### Manual pada Epoch 30"
   ]
  },
  {
   "cell_type": "code",
   "execution_count": 17,
   "id": "6b94187f-e85a-4b98-9fc8-ddfb38baef84",
   "metadata": {},
   "outputs": [
    {
     "name": "stdout",
     "output_type": "stream",
     "text": [
      "\u001b[1m13/13\u001b[0m \u001b[32m━━━━━━━━━━━━━━━━━━━━\u001b[0m\u001b[37m\u001b[0m \u001b[1m2s\u001b[0m 156ms/step\n",
      "\u001b[1m13/13\u001b[0m \u001b[32m━━━━━━━━━━━━━━━━━━━━\u001b[0m\u001b[37m\u001b[0m \u001b[1m2s\u001b[0m 79ms/step\n",
      "\u001b[1m13/13\u001b[0m \u001b[32m━━━━━━━━━━━━━━━━━━━━\u001b[0m\u001b[37m\u001b[0m \u001b[1m1s\u001b[0m 52ms/step\n",
      "\u001b[1m13/13\u001b[0m \u001b[32m━━━━━━━━━━━━━━━━━━━━\u001b[0m\u001b[37m\u001b[0m \u001b[1m0s\u001b[0m 32ms/step\n",
      "\u001b[1m13/13\u001b[0m \u001b[32m━━━━━━━━━━━━━━━━━━━━\u001b[0m\u001b[37m\u001b[0m \u001b[1m0s\u001b[0m 22ms/step\n",
      "\u001b[1m13/13\u001b[0m \u001b[32m━━━━━━━━━━━━━━━━━━━━\u001b[0m\u001b[37m\u001b[0m \u001b[1m1s\u001b[0m 48ms/step\n",
      "\n",
      "Classification Report for Validation Data:\n",
      "              precision    recall  f1-score   support\n",
      "\n",
      "           0       0.90      0.95      0.92       201\n",
      "           1       0.94      0.90      0.92       199\n",
      "\n",
      "    accuracy                           0.92       400\n",
      "   macro avg       0.92      0.92      0.92       400\n",
      "weighted avg       0.92      0.92      0.92       400\n",
      "\n",
      "ROC AUC Score (Validation): 0.9665991649791243\n",
      "Precision-Recall AUC (Validation): 0.9620848697129614\n"
     ]
    }
   ],
   "source": [
    "# 0.92 : 0.93 : 0.92\n",
    "ensembleModel(models=['./rev_model/27_LSTM_lr_1e-4.keras', \n",
    "                      './rev_model/31_GRU_lr_1e-4.keras', \n",
    "                      './rev_model/36_TCN_lr_auto.keras'], \n",
    "               weights=[0.92, 0.93, 0.92]\n",
    "             )"
   ]
  },
  {
   "cell_type": "markdown",
   "id": "aacadcc2-2d6b-42d4-ad2e-6c2df10f0ac3",
   "metadata": {},
   "source": [
    "### Callback EarlyStopping"
   ]
  },
  {
   "cell_type": "code",
   "execution_count": 18,
   "id": "a7417c44-c4b0-4493-b63e-8c770fae93b9",
   "metadata": {},
   "outputs": [
    {
     "name": "stdout",
     "output_type": "stream",
     "text": [
      "\u001b[1m13/13\u001b[0m \u001b[32m━━━━━━━━━━━━━━━━━━━━\u001b[0m\u001b[37m\u001b[0m \u001b[1m1s\u001b[0m 65ms/step\n",
      "\u001b[1m13/13\u001b[0m \u001b[32m━━━━━━━━━━━━━━━━━━━━\u001b[0m\u001b[37m\u001b[0m \u001b[1m1s\u001b[0m 54ms/step\n",
      "\u001b[1m13/13\u001b[0m \u001b[32m━━━━━━━━━━━━━━━━━━━━\u001b[0m\u001b[37m\u001b[0m \u001b[1m1s\u001b[0m 48ms/step\n",
      "\u001b[1m13/13\u001b[0m \u001b[32m━━━━━━━━━━━━━━━━━━━━\u001b[0m\u001b[37m\u001b[0m \u001b[1m0s\u001b[0m 20ms/step\n",
      "\u001b[1m13/13\u001b[0m \u001b[32m━━━━━━━━━━━━━━━━━━━━\u001b[0m\u001b[37m\u001b[0m \u001b[1m0s\u001b[0m 23ms/step\n",
      "\u001b[1m13/13\u001b[0m \u001b[32m━━━━━━━━━━━━━━━━━━━━\u001b[0m\u001b[37m\u001b[0m \u001b[1m1s\u001b[0m 49ms/step\n",
      "\n",
      "Classification Report for Validation Data:\n",
      "              precision    recall  f1-score   support\n",
      "\n",
      "           0       0.90      0.95      0.92       201\n",
      "           1       0.94      0.89      0.92       199\n",
      "\n",
      "    accuracy                           0.92       400\n",
      "   macro avg       0.92      0.92      0.92       400\n",
      "weighted avg       0.92      0.92      0.92       400\n",
      "\n",
      "ROC AUC Score (Validation): 0.9636240906022651\n",
      "Precision-Recall AUC (Validation): 0.956941359721098\n"
     ]
    }
   ],
   "source": [
    "# 0.91 : 0.93 : 0.92\n",
    "ensembleModel(models=['./rev_model/39_LSTM_lr_1e-4.keras', \n",
    "                      './rev_model/43_GRU_lr_1e-4.keras', \n",
    "                      './rev_model/47_TCN_lr_1e-4.keras'], \n",
    "               weights=[0.91, 0.93, 0.92]\n",
    "             )"
   ]
  },
  {
   "cell_type": "code",
   "execution_count": null,
   "id": "e5574a2b-2625-4b6e-a7fb-58659b42aa65",
   "metadata": {},
   "outputs": [],
   "source": []
  }
 ],
 "metadata": {
  "kernelspec": {
   "display_name": "Python 3 (ipykernel)",
   "language": "python",
   "name": "python3"
  },
  "language_info": {
   "codemirror_mode": {
    "name": "ipython",
    "version": 3
   },
   "file_extension": ".py",
   "mimetype": "text/x-python",
   "name": "python",
   "nbconvert_exporter": "python",
   "pygments_lexer": "ipython3",
   "version": "3.10.11"
  }
 },
 "nbformat": 4,
 "nbformat_minor": 5
}
