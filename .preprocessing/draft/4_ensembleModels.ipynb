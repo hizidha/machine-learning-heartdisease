{
 "cells": [
  {
   "cell_type": "code",
   "execution_count": 6,
   "id": "89e4e9e9",
   "metadata": {},
   "outputs": [],
   "source": [
    "import joblib\n",
    "import numpy as np\n",
    "\n",
    "import keras\n",
    "from keras.models import save_model\n",
    "from keras.models import Sequential\n",
    "from keras.layers import LSTM, GRU, Conv1D, MaxPooling1D, Flatten, Dense, Input\n",
    "from keras.optimizers import Adam\n",
    "from keras.callbacks import ReduceLROnPlateau\n",
    "\n",
    "from scikeras.wrappers import KerasClassifier\n",
    "from sklearn.ensemble import VotingClassifier\n",
    "from sklearn.metrics import classification_report\n",
    "\n",
    "\n",
    "filePath = './data_train_valid.npz'\n",
    "data = np.load(filePath)\n",
    "\n",
    "X_train = data['X_train']\n",
    "y_train = data['y_train']\n",
    "X_valid = data['X_valid']\n",
    "y_valid = data['y_valid']"
   ]
  },
  {
   "cell_type": "code",
   "execution_count": 7,
   "id": "203f6589",
   "metadata": {},
   "outputs": [],
   "source": [
    "def modelLST(X_train=X_train, y_train=y_train, X_valid=X_valid, y_valid=y_valid):\n",
    "    model = Sequential([\n",
    "        Input(shape=(X_train.shape[1], X_train.shape[2])),\n",
    "        LSTM(units=128, return_sequences=True),\n",
    "        LSTM(units=64),\n",
    "        Dense(units=32, activation='relu'),\n",
    "        Dense(units=1, activation='sigmoid')\n",
    "    ])\n",
    "    model.compile(optimizer=Adam(learning_rate=0.0001), loss='binary_crossentropy', metrics=['accuracy'])\n",
    "    model.fit(X_train, y_train, validation_data=(X_valid, y_valid))\n",
    "    return model\n",
    "\n",
    "def modelGRU(X_train=X_train, y_train=y_train, X_valid=X_valid, y_valid=y_valid):\n",
    "    model = Sequential([\n",
    "        Input(shape=(X_train.shape[1], X_train.shape[2])),\n",
    "        GRU(units=128, return_sequences=True),\n",
    "        GRU(units=64),\n",
    "        Dense(units=32, activation='relu'),\n",
    "        Dense(units=1, activation='sigmoid')\n",
    "    ])\n",
    "    model.compile(optimizer=Adam(learning_rate=0.0001), loss='binary_crossentropy', metrics=['accuracy'])\n",
    "    model.fit(X_train, y_train, validation_data=(X_valid, y_valid))\n",
    "    return model\n",
    "\n",
    "def modelTCN(X_train=X_train, y_train=y_train, X_valid=X_valid, y_valid=y_valid):\n",
    "    model = Sequential([\n",
    "        Input(shape=(X_train.shape[1], X_train.shape[2])),\n",
    "        Conv1D(filters=128, kernel_size=3, activation='relu', padding='same'),\n",
    "        MaxPooling1D(pool_size=1),\n",
    "        Conv1D(filters=64, kernel_size=3, activation='relu', padding='same'),\n",
    "        MaxPooling1D(pool_size=1),\n",
    "        Flatten(),\n",
    "        Dense(units=32, activation='relu'),\n",
    "        Dense(units=1, activation='sigmoid')\n",
    "    ])\n",
    "    model.compile(optimizer=Adam(), loss='binary_crossentropy', metrics=['accuracy'])\n",
    "    reduce_lr = ReduceLROnPlateau(monitor='val_loss', patience=2, factor=0.01, min_lr=0.0001)\n",
    "    model.fit(X_train, y_train, validation_data=(X_valid, y_valid), callbacks=[reduce_lr])\n",
    "    return model"
   ]
  },
  {
   "cell_type": "code",
   "execution_count": 8,
   "id": "e8e8eed9",
   "metadata": {},
   "outputs": [],
   "source": [
    "def ensembleModel(epoch: int, weights: list, nameFiles: str):\n",
    "    # Membuat objek KerasClassifier untuk masing-masing model\n",
    "    lstm_classifier = KerasClassifier(model=modelLST, epochs=epoch, verbose=0)\n",
    "    gru_classifier  = KerasClassifier(model=modelGRU, epochs=epoch, verbose=0)\n",
    "    tcn_classifier  = KerasClassifier(model=modelTCN, epochs=epoch, verbose=0)\n",
    "\n",
    "    # Definisikan model-model individu sebagai sebuah list\n",
    "    models = [\n",
    "        ('lst', lstm_classifier),\n",
    "        ('gru', gru_classifier),\n",
    "        ('tcn', tcn_classifier)\n",
    "    ]\n",
    "\n",
    "    # Membuat ensemble model dengan soft voting\n",
    "    ensemble_model = VotingClassifier(estimators=models,\n",
    "                                      voting='soft',\n",
    "                                      weights=weights)\n",
    "\n",
    "    # Melatih ensemble model\n",
    "    ensemble_model.fit(X_train, y_train)\n",
    "\n",
    "    # Melakukan prediksi menggunakan ensemble model\n",
    "    y_pred_ensemble = ensemble_model.predict(X_valid)\n",
    "\n",
    "    # Menampilkan classification report\n",
    "    print(\"Ensemble Model Classification Report:\")\n",
    "    print(classification_report(y_valid, y_pred_ensemble))\n",
    "    \n",
    "    # Simpan model ensemble\n",
    "    joblib.dump(ensemble_model, nameFiles + '.pkl')"
   ]
  },
  {
   "cell_type": "markdown",
   "id": "fa70690f",
   "metadata": {},
   "source": [
    "## Train Model\n",
    "### Epoch 10 and Weight 1:1:1"
   ]
  },
  {
   "cell_type": "code",
   "execution_count": 9,
   "id": "769e1bdd",
   "metadata": {},
   "outputs": [
    {
     "name": "stdout",
     "output_type": "stream",
     "text": [
      "\u001b[1m50/50\u001b[0m \u001b[32m━━━━━━━━━━━━━━━━━━━━\u001b[0m\u001b[37m\u001b[0m \u001b[1m13s\u001b[0m 205ms/step - accuracy: 0.7578 - loss: 0.5819 - val_accuracy: 0.8350 - val_loss: 0.4922\n",
      "\u001b[1m50/50\u001b[0m \u001b[32m━━━━━━━━━━━━━━━━━━━━\u001b[0m\u001b[37m\u001b[0m \u001b[1m10s\u001b[0m 139ms/step - accuracy: 0.7342 - loss: 0.5422 - val_accuracy: 0.8525 - val_loss: 0.4135\n",
      "\u001b[1m50/50\u001b[0m \u001b[32m━━━━━━━━━━━━━━━━━━━━\u001b[0m\u001b[37m\u001b[0m \u001b[1m33s\u001b[0m 626ms/step - accuracy: 0.7306 - loss: 1.6340 - val_accuracy: 0.7875 - val_loss: 1.2847 - learning_rate: 0.0010\n",
      "Ensemble Model Classification Report:\n",
      "              precision    recall  f1-score   support\n",
      "\n",
      "           0       0.91      0.94      0.92       201\n",
      "           1       0.93      0.90      0.92       199\n",
      "\n",
      "    accuracy                           0.92       400\n",
      "   macro avg       0.92      0.92      0.92       400\n",
      "weighted avg       0.92      0.92      0.92       400\n",
      "\n"
     ]
    }
   ],
   "source": [
    "ensembleModel(10, [1, 1, 1], 'ep10_wgt1_1_1')"
   ]
  },
  {
   "cell_type": "markdown",
   "id": "8f900b92",
   "metadata": {},
   "source": [
    "### Epoch 10 and Weight 1:1:2"
   ]
  },
  {
   "cell_type": "code",
   "execution_count": 10,
   "id": "bda47771",
   "metadata": {},
   "outputs": [
    {
     "name": "stdout",
     "output_type": "stream",
     "text": [
      "\u001b[1m50/50\u001b[0m \u001b[32m━━━━━━━━━━━━━━━━━━━━\u001b[0m\u001b[37m\u001b[0m \u001b[1m14s\u001b[0m 223ms/step - accuracy: 0.7516 - loss: 0.5876 - val_accuracy: 0.8425 - val_loss: 0.4896\n",
      "\u001b[1m50/50\u001b[0m \u001b[32m━━━━━━━━━━━━━━━━━━━━\u001b[0m\u001b[37m\u001b[0m \u001b[1m11s\u001b[0m 142ms/step - accuracy: 0.7579 - loss: 0.5058 - val_accuracy: 0.8625 - val_loss: 0.3973\n",
      "\u001b[1m50/50\u001b[0m \u001b[32m━━━━━━━━━━━━━━━━━━━━\u001b[0m\u001b[37m\u001b[0m \u001b[1m31s\u001b[0m 595ms/step - accuracy: 0.7399 - loss: 1.0561 - val_accuracy: 0.8450 - val_loss: 0.5920 - learning_rate: 0.0010\n",
      "Ensemble Model Classification Report:\n",
      "              precision    recall  f1-score   support\n",
      "\n",
      "           0       0.88      0.95      0.91       201\n",
      "           1       0.94      0.87      0.91       199\n",
      "\n",
      "    accuracy                           0.91       400\n",
      "   macro avg       0.91      0.91      0.91       400\n",
      "weighted avg       0.91      0.91      0.91       400\n",
      "\n"
     ]
    }
   ],
   "source": [
    "ensembleModel(10, [1, 1, 2], 'ep10_wgt1_1_2')"
   ]
  },
  {
   "cell_type": "markdown",
   "id": "60ca2ea1",
   "metadata": {},
   "source": [
    "### Epoch 20 and Weight 1:1:1"
   ]
  },
  {
   "cell_type": "code",
   "execution_count": 11,
   "id": "c9296b98",
   "metadata": {},
   "outputs": [
    {
     "name": "stdout",
     "output_type": "stream",
     "text": [
      "\u001b[1m50/50\u001b[0m \u001b[32m━━━━━━━━━━━━━━━━━━━━\u001b[0m\u001b[37m\u001b[0m \u001b[1m12s\u001b[0m 183ms/step - accuracy: 0.7581 - loss: 0.5811 - val_accuracy: 0.8500 - val_loss: 0.4781\n",
      "\u001b[1m50/50\u001b[0m \u001b[32m━━━━━━━━━━━━━━━━━━━━\u001b[0m\u001b[37m\u001b[0m \u001b[1m10s\u001b[0m 137ms/step - accuracy: 0.7398 - loss: 0.5342 - val_accuracy: 0.8700 - val_loss: 0.3944\n",
      "\u001b[1m50/50\u001b[0m \u001b[32m━━━━━━━━━━━━━━━━━━━━\u001b[0m\u001b[37m\u001b[0m \u001b[1m32s\u001b[0m 623ms/step - accuracy: 0.7228 - loss: 1.5858 - val_accuracy: 0.8300 - val_loss: 0.5299 - learning_rate: 0.0010\n",
      "Ensemble Model Classification Report:\n",
      "              precision    recall  f1-score   support\n",
      "\n",
      "           0       0.88      0.95      0.91       201\n",
      "           1       0.94      0.87      0.90       199\n",
      "\n",
      "    accuracy                           0.91       400\n",
      "   macro avg       0.91      0.91      0.91       400\n",
      "weighted avg       0.91      0.91      0.91       400\n",
      "\n"
     ]
    }
   ],
   "source": [
    "ensembleModel(20, [1, 1, 1], 'ep20_wgt1_1_1')"
   ]
  },
  {
   "cell_type": "markdown",
   "id": "c1cbf7cf",
   "metadata": {},
   "source": [
    "### Epoch 20 and Weight 1:1:2"
   ]
  },
  {
   "cell_type": "code",
   "execution_count": 12,
   "id": "5152fc3a",
   "metadata": {},
   "outputs": [
    {
     "name": "stdout",
     "output_type": "stream",
     "text": [
      "\u001b[1m50/50\u001b[0m \u001b[32m━━━━━━━━━━━━━━━━━━━━\u001b[0m\u001b[37m\u001b[0m \u001b[1m12s\u001b[0m 187ms/step - accuracy: 0.7686 - loss: 0.5859 - val_accuracy: 0.8675 - val_loss: 0.4754\n",
      "\u001b[1m50/50\u001b[0m \u001b[32m━━━━━━━━━━━━━━━━━━━━\u001b[0m\u001b[37m\u001b[0m \u001b[1m12s\u001b[0m 160ms/step - accuracy: 0.7391 - loss: 0.5097 - val_accuracy: 0.8650 - val_loss: 0.3876\n",
      "\u001b[1m50/50\u001b[0m \u001b[32m━━━━━━━━━━━━━━━━━━━━\u001b[0m\u001b[37m\u001b[0m \u001b[1m34s\u001b[0m 651ms/step - accuracy: 0.7108 - loss: 1.1846 - val_accuracy: 0.8150 - val_loss: 0.4769 - learning_rate: 0.0010\n",
      "Ensemble Model Classification Report:\n",
      "              precision    recall  f1-score   support\n",
      "\n",
      "           0       0.92      0.88      0.90       201\n",
      "           1       0.88      0.92      0.90       199\n",
      "\n",
      "    accuracy                           0.90       400\n",
      "   macro avg       0.90      0.90      0.90       400\n",
      "weighted avg       0.90      0.90      0.90       400\n",
      "\n"
     ]
    }
   ],
   "source": [
    "ensembleModel(20, [1, 1, 2], 'ep20_wgt1_1_2')"
   ]
  },
  {
   "cell_type": "markdown",
   "id": "db25569b",
   "metadata": {},
   "source": [
    "### Epoch 30 and Weight 1:1:1"
   ]
  },
  {
   "cell_type": "code",
   "execution_count": 13,
   "id": "cfc02533",
   "metadata": {},
   "outputs": [
    {
     "name": "stdout",
     "output_type": "stream",
     "text": [
      "\u001b[1m50/50\u001b[0m \u001b[32m━━━━━━━━━━━━━━━━━━━━\u001b[0m\u001b[37m\u001b[0m \u001b[1m13s\u001b[0m 195ms/step - accuracy: 0.7506 - loss: 0.5962 - val_accuracy: 0.8450 - val_loss: 0.4840\n",
      "\u001b[1m50/50\u001b[0m \u001b[32m━━━━━━━━━━━━━━━━━━━━\u001b[0m\u001b[37m\u001b[0m \u001b[1m11s\u001b[0m 150ms/step - accuracy: 0.7903 - loss: 0.4896 - val_accuracy: 0.8725 - val_loss: 0.3703\n",
      "\u001b[1m50/50\u001b[0m \u001b[32m━━━━━━━━━━━━━━━━━━━━\u001b[0m\u001b[37m\u001b[0m \u001b[1m33s\u001b[0m 633ms/step - accuracy: 0.7341 - loss: 1.4125 - val_accuracy: 0.8050 - val_loss: 0.9067 - learning_rate: 0.0010\n",
      "Ensemble Model Classification Report:\n",
      "              precision    recall  f1-score   support\n",
      "\n",
      "           0       0.90      0.95      0.92       201\n",
      "           1       0.94      0.90      0.92       199\n",
      "\n",
      "    accuracy                           0.92       400\n",
      "   macro avg       0.92      0.92      0.92       400\n",
      "weighted avg       0.92      0.92      0.92       400\n",
      "\n"
     ]
    }
   ],
   "source": [
    "ensembleModel(30, [1, 1, 1], 'ep30_wgt1_1_1')"
   ]
  },
  {
   "cell_type": "markdown",
   "id": "ea177609",
   "metadata": {},
   "source": [
    "### Epoch 30 and Weight 1:1:2"
   ]
  },
  {
   "cell_type": "code",
   "execution_count": 14,
   "id": "c994b2bc",
   "metadata": {},
   "outputs": [
    {
     "name": "stdout",
     "output_type": "stream",
     "text": [
      "\u001b[1m50/50\u001b[0m \u001b[32m━━━━━━━━━━━━━━━━━━━━\u001b[0m\u001b[37m\u001b[0m \u001b[1m16s\u001b[0m 194ms/step - accuracy: 0.7154 - loss: 0.5979 - val_accuracy: 0.8475 - val_loss: 0.4982\n",
      "\u001b[1m50/50\u001b[0m \u001b[32m━━━━━━━━━━━━━━━━━━━━\u001b[0m\u001b[37m\u001b[0m \u001b[1m11s\u001b[0m 149ms/step - accuracy: 0.7381 - loss: 0.5259 - val_accuracy: 0.8825 - val_loss: 0.4059\n",
      "\u001b[1m50/50\u001b[0m \u001b[32m━━━━━━━━━━━━━━━━━━━━\u001b[0m\u001b[37m\u001b[0m \u001b[1m33s\u001b[0m 635ms/step - accuracy: 0.7039 - loss: 1.8069 - val_accuracy: 0.8375 - val_loss: 0.9870 - learning_rate: 0.0010\n",
      "Ensemble Model Classification Report:\n",
      "              precision    recall  f1-score   support\n",
      "\n",
      "           0       0.91      0.95      0.93       201\n",
      "           1       0.94      0.90      0.92       199\n",
      "\n",
      "    accuracy                           0.93       400\n",
      "   macro avg       0.93      0.92      0.92       400\n",
      "weighted avg       0.93      0.93      0.92       400\n",
      "\n"
     ]
    }
   ],
   "source": [
    "ensembleModel(30, [1, 1, 2], 'ep30_wgt1_1_2')"
   ]
  }
 ],
 "metadata": {
  "kernelspec": {
   "display_name": "Python 3 (ipykernel)",
   "language": "python",
   "name": "python3"
  },
  "language_info": {
   "codemirror_mode": {
    "name": "ipython",
    "version": 3
   },
   "file_extension": ".py",
   "mimetype": "text/x-python",
   "name": "python",
   "nbconvert_exporter": "python",
   "pygments_lexer": "ipython3",
   "version": "3.11.5"
  }
 },
 "nbformat": 4,
 "nbformat_minor": 5
}
